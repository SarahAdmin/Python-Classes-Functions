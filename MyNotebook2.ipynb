{
  "nbformat": 4,
  "nbformat_minor": 0,
  "metadata": {
    "colab": {
      "provenance": [],
      "authorship_tag": "ABX9TyMm3KzVTneOjQ+9aN3qQL4L",
      "include_colab_link": true
    },
    "kernelspec": {
      "name": "python3",
      "display_name": "Python 3"
    },
    "language_info": {
      "name": "python"
    }
  },
  "cells": [
    {
      "cell_type": "markdown",
      "metadata": {
        "id": "view-in-github",
        "colab_type": "text"
      },
      "source": [
        "<a href=\"https://colab.research.google.com/github/SarahAdmin/Python-Classes-Functions/blob/main/MyNotebook2.ipynb\" target=\"_parent\"><img src=\"https://colab.research.google.com/assets/colab-badge.svg\" alt=\"Open In Colab\"/></a>"
      ]
    },
    {
      "cell_type": "code",
      "execution_count": 8,
      "metadata": {
        "colab": {
          "base_uri": "https://localhost:8080/"
        },
        "id": "RVaD6Pe2ktJk",
        "outputId": "53814373-58fc-45c8-ab52-e2aa05a877ad"
      },
      "outputs": [
        {
          "output_type": "stream",
          "name": "stdout",
          "text": [
            "First Name: Lee\n",
            "Surname: Cox\n",
            "Course: Computer Science\n",
            "Module: Advanced Databases\n",
            "Grade: A\n",
            "First Name: Matt\n",
            "Surname: Bond\n",
            "Course: Finance\n",
            "Module: Professional Envrionments 1\n",
            "Grade: C\n"
          ]
        }
      ],
      "source": [
        "class Student():\n",
        "   def __init__(self,firstname,surname,course,module,grade):\n",
        "    self.firstname = firstname\n",
        "    self.surname = surname\n",
        "    self.course = course\n",
        "    self.module = module\n",
        "    self.grade = grade\n",
        "\n",
        "   def StudentModule(self):\n",
        "    print(\"First Name: \"+self.firstname)\n",
        "    print(\"Surname: \"+self.surname)\n",
        "    print(\"Course: \"+self.course)\n",
        "    print(\"Module: \"+self.module)\n",
        "    print(\"Grade: \"+self.grade)\n",
        "\n",
        "p1 = Student(\"Lee\",\"Cox\",\"Computer Science\",\"Advanced Databases\",\"A\")\n",
        "p2 = Student(\"Matt\",\"Bond\",\"Finance\",\"Professional Envrionments 1\",\"C\")\n",
        "\n",
        "p1.StudentModule()\n",
        "p2.StudentModule()"
      ]
    },
    {
      "cell_type": "code",
      "source": [
        "name = input(\"Enter your name: \")\n",
        "luckyNum = int(input(\"Enter your lucky number: \"))\n",
        "\n",
        "if luckyNum < 20:\n",
        "  print(name+ \" You don't have a prize\")\n",
        "  print(\"Better luck next time\")\n",
        "elif luckyNum < 99:\n",
        "  print(name+ \" You have a prize!\")\n",
        "else:\n",
        "  print(name+\" Good Night\")"
      ],
      "metadata": {
        "colab": {
          "base_uri": "https://localhost:8080/"
        },
        "id": "oZHkQMVznfvC",
        "outputId": "c7cac8b4-915f-48c4-f6a9-8d697e12f8ac"
      },
      "execution_count": 9,
      "outputs": [
        {
          "output_type": "stream",
          "name": "stdout",
          "text": [
            "Enter your name: Lee Cox \n",
            "Enter your lucky number: 80\n",
            "Lee Cox  You have a prize!\n"
          ]
        }
      ]
    },
    {
      "cell_type": "code",
      "source": [
        "def PoweredNumber(num):\n",
        "  return pow(num,2)\n",
        "print(PoweredNumber(8))\n",
        "print(PoweredNumber(16))"
      ],
      "metadata": {
        "colab": {
          "base_uri": "https://localhost:8080/"
        },
        "id": "qSHH3COroXuU",
        "outputId": "77af002a-9a94-4b73-b6ba-d3f9ca7a1d80"
      },
      "execution_count": 11,
      "outputs": [
        {
          "output_type": "stream",
          "name": "stdout",
          "text": [
            "64\n",
            "256\n"
          ]
        }
      ]
    }
  ]
}